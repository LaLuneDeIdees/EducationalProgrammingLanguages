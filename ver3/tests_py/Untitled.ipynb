{
 "cells": [
  {
   "cell_type": "code",
   "execution_count": 50,
   "metadata": {
    "scrolled": true
   },
   "outputs": [],
   "source": [
    "code = \"1+8*(6-87)/5\""
   ]
  },
  {
   "cell_type": "code",
   "execution_count": 58,
   "metadata": {
    "scrolled": true
   },
   "outputs": [
    {
     "name": "stdout",
     "output_type": "stream",
     "text": [
      "1 8 6 87 -*5 /+"
     ]
    }
   ],
   "source": [
    "stek = []\n",
    "\n",
    "buffer = ''\n",
    "for i in code:\n",
    "    if i in \"1234567890\":\n",
    "        buffer+=i\n",
    "    elif i in \"+-/*^\":\n",
    "        if(buffer!=\"\"):print(buffer+\" \",end='');buffer=''\n",
    "        while len(stek)>0:\n",
    "            if i in \"+-\" and stek[len(stek)-1] in \"^*/+-\":\n",
    "                print(stek[len(stek)-1],end='')\n",
    "                del(stek[len(stek)-1])\n",
    "            elif i in \"*/\" and stek[len(stek)-1] in \"*/^\" :\n",
    "                print(stek[len(stek)-1],end='')\n",
    "                del(stek[len(stek)-1])\n",
    "            elif i in \"^\" and stek[len(stek)-1] in \"^\" :\n",
    "                print(stek[len(stek)-1],end='')\n",
    "                del(stek[len(stek)-1])\n",
    "            else: break\n",
    "        stek.append(i)\n",
    "    elif i=='(':\n",
    "        if(buffer!=\"\"):print(buffer+\" \",end='');buffer=''\n",
    "        stek.append(i)\n",
    "    elif i==')':\n",
    "        if(buffer!=\"\"):print(buffer+\" \",end='');buffer=''\n",
    "        while stek[len(stek)-1]!=\"(\":\n",
    "            print(stek[len(stek)-1],end='')\n",
    "            del(stek[len(stek)-1])\n",
    "        del(stek[len(stek)-1])\n",
    "    else:\n",
    "        if(buffer!=\"\"):print(buffer+\" \",end='');buffer=''\n",
    "# #         print(i,end='')\n",
    "if(buffer!=\"\"):print(buffer+\" \",end='');buffer=''\n",
    "stek.reverse()\n",
    "for i in stek:\n",
    "    print(i,end='')\n",
    "    "
   ]
  },
  {
   "cell_type": "code",
   "execution_count": null,
   "metadata": {},
   "outputs": [],
   "source": []
  },
  {
   "cell_type": "code",
   "execution_count": null,
   "metadata": {},
   "outputs": [],
   "source": []
  }
 ],
 "metadata": {
  "kernelspec": {
   "display_name": "Python 3",
   "language": "python",
   "name": "python3"
  },
  "language_info": {
   "codemirror_mode": {
    "name": "ipython",
    "version": 3
   },
   "file_extension": ".py",
   "mimetype": "text/x-python",
   "name": "python",
   "nbconvert_exporter": "python",
   "pygments_lexer": "ipython3",
   "version": "3.8.2"
  }
 },
 "nbformat": 4,
 "nbformat_minor": 2
}
